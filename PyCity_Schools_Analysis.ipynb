{
 "cells": [
  {
   "cell_type": "markdown",
   "metadata": {},
   "source": [
    "# PyCity Schools Analysis\n",
    "\n",
    "* As a whole, schools with higher budgets, did not yield better test results. By contrast, schools with higher spending per student ($645 - $675 per student) actually underperformed compared to schools with smaller budgets ($585 per student).\n",
    "\n",
    "* As a whole, smaller and medium sized schools dramatically out-performed large sized schools on passing math performances (89-91% passing vs 67%).\n",
    "\n",
    "* As a whole, charter schools out-performed the public district schools across all metrics. However, more analysis will be required to determine if the effect is due to school practices or the fact that charter schools tend to serve smaller student populations per school. \n",
    "---"
   ]
  },
  {
   "cell_type": "code",
   "execution_count": 24,
   "metadata": {
    "ExecuteTime": {
     "end_time": "2023-10-12T00:47:08.897423Z",
     "start_time": "2023-10-12T00:47:08.829035Z"
    }
   },
   "outputs": [
    {
     "name": "stdout",
     "output_type": "stream",
     "text": [
      "Student ID       39170\n",
      "student_name     39170\n",
      "gender           39170\n",
      "grade            39170\n",
      "school_name      39170\n",
      "reading_score    39170\n",
      "math_score       39170\n",
      "School ID        39170\n",
      "type             39170\n",
      "size             39170\n",
      "budget           39170\n",
      "dtype: int64\n"
     ]
    },
    {
     "data": {
      "text/plain": [
       "(39170, 11)"
      ]
     },
     "execution_count": 24,
     "metadata": {},
     "output_type": "execute_result"
    }
   ],
   "source": [
    "# Dependencies and Setup\n",
    "import pandas as pd\n",
    "import numpy as np\n",
    "\n",
    "# Load in the files\n",
    "school_data_to_load = \"data/schools_complete.csv\"\n",
    "student_data_to_load = \"data/students_complete.csv\"\n",
    "\n",
    "# Read School and Student Data File and store into Pandas Data Frames\n",
    "school_data = pd.read_csv(school_data_to_load)\n",
    "student_data = pd.read_csv(student_data_to_load)\n",
    "\n",
    "# Combine the data into a single dataset\n",
    "school_data_complete = pd.merge(student_data,\n",
    "                                school_data,\n",
    "                                how=\"left\",\n",
    "                                on=[\"school_name\", \"school_name\"])\n",
    "\n",
    "# Display the count of each series in the DataFrame\n",
    "print(school_data_complete.count())\n",
    "\n",
    "# Display the count of columns and rows\n",
    "school_data_complete.shape\n"
   ]
  },
  {
   "cell_type": "markdown",
   "metadata": {},
   "source": [
    "## District Summary"
   ]
  },
  {
   "cell_type": "code",
   "execution_count": 26,
   "metadata": {
    "ExecuteTime": {
     "end_time": "2023-10-12T00:18:49.333356Z",
     "start_time": "2023-10-12T00:18:49.331599Z"
    }
   },
   "outputs": [
    {
     "name": "stdout",
     "output_type": "stream",
     "text": [
      "15\n"
     ]
    }
   ],
   "source": [
    "# Total number of schools\n",
    "number_of_schools = school_data_complete['School ID'].nunique()\n",
    "print(number_of_schools)\n"
   ]
  },
  {
   "cell_type": "code",
   "execution_count": 27,
   "metadata": {
    "ExecuteTime": {
     "end_time": "2023-10-12T00:18:49.336531Z",
     "start_time": "2023-10-12T00:18:49.334117Z"
    }
   },
   "outputs": [
    {
     "name": "stdout",
     "output_type": "stream",
     "text": [
      "39170\n"
     ]
    }
   ],
   "source": [
    "# Total number of students\n",
    "number_of_students = school_data_complete['Student ID'].nunique()\n",
    "print(number_of_students)\n"
   ]
  },
  {
   "cell_type": "code",
   "execution_count": 28,
   "metadata": {
    "ExecuteTime": {
     "end_time": "2023-10-12T00:18:49.338645Z",
     "start_time": "2023-10-12T00:18:49.337087Z"
    }
   },
   "outputs": [
    {
     "name": "stdout",
     "output_type": "stream",
     "text": [
      "82932329558\n"
     ]
    }
   ],
   "source": [
    "# Total budget\n",
    "total_budget = school_data_complete['budget'].sum()\n",
    "print(total_budget)\n"
   ]
  },
  {
   "cell_type": "code",
   "execution_count": 29,
   "metadata": {
    "ExecuteTime": {
     "end_time": "2023-10-12T00:18:49.340952Z",
     "start_time": "2023-10-12T00:18:49.339245Z"
    }
   },
   "outputs": [
    {
     "name": "stdout",
     "output_type": "stream",
     "text": [
      "78.98537145774827\n"
     ]
    }
   ],
   "source": [
    "# Average math score\n",
    "avg_math_score = school_data_complete['math_score'].mean()\n",
    "print(avg_math_score)\n"
   ]
  },
  {
   "cell_type": "code",
   "execution_count": 30,
   "metadata": {
    "ExecuteTime": {
     "end_time": "2023-10-12T00:18:49.344402Z",
     "start_time": "2023-10-12T00:18:49.341531Z"
    }
   },
   "outputs": [
    {
     "name": "stdout",
     "output_type": "stream",
     "text": [
      "81.87784018381414\n"
     ]
    }
   ],
   "source": [
    "# Average reading score\n",
    "avg_reading_score = school_data_complete['reading_score'].mean()\n",
    "print(avg_reading_score)\n"
   ]
  },
  {
   "cell_type": "code",
   "execution_count": 31,
   "metadata": {
    "ExecuteTime": {
     "end_time": "2023-10-12T00:27:52.835160Z",
     "start_time": "2023-10-12T00:27:52.830755Z"
    }
   },
   "outputs": [
    {
     "name": "stdout",
     "output_type": "stream",
     "text": [
      "80.43160582078121\n"
     ]
    }
   ],
   "source": [
    "# Overall passing rate\n",
    "overall_passing_rate = (avg_math_score + avg_reading_score) / 2\n",
    "print(overall_passing_rate)\n"
   ]
  },
  {
   "cell_type": "code",
   "execution_count": 32,
   "metadata": {
    "ExecuteTime": {
     "end_time": "2023-10-12T00:25:17.689107Z",
     "start_time": "2023-10-12T00:25:17.682709Z"
    }
   },
   "outputs": [
    {
     "name": "stdout",
     "output_type": "stream",
     "text": [
      "29370\n",
      "74.9808526933878\n"
     ]
    }
   ],
   "source": [
    "# Percentage of students passing math (70 or greater)\n",
    "\n",
    "# Find count of students with math score >= 70\n",
    "students_passing_math = (school_data_complete['math_score'] >= 70).sum()\n",
    "print(students_passing_math)\n",
    "\n",
    "# Find percentage of students passing math\n",
    "percent_passing_math = (students_passing_math / number_of_students) * 100\n",
    "print(percent_passing_math)\n"
   ]
  },
  {
   "cell_type": "code",
   "execution_count": 33,
   "metadata": {
    "ExecuteTime": {
     "end_time": "2023-10-12T00:26:16.028204Z",
     "start_time": "2023-10-12T00:26:16.019680Z"
    }
   },
   "outputs": [
    {
     "name": "stdout",
     "output_type": "stream",
     "text": [
      "33610\n",
      "85.80546336482001\n"
     ]
    }
   ],
   "source": [
    "# Percentage of students passing reading (70 or greater)\n",
    "\n",
    "# Find count of students with reading score >= 70\n",
    "students_passing_reading = (school_data_complete['reading_score'] >= 70).sum()\n",
    "print(students_passing_reading)\n",
    "\n",
    "# Find percentage of students passing reading\n",
    "percent_passing_reading = (students_passing_reading /\n",
    "                           number_of_students) * 100\n",
    "print(percent_passing_reading)\n"
   ]
  },
  {
   "cell_type": "code",
   "execution_count": 34,
   "metadata": {
    "ExecuteTime": {
     "end_time": "2023-10-12T00:28:21.122198Z",
     "start_time": "2023-10-12T00:28:21.113989Z"
    }
   },
   "outputs": [
    {
     "data": {
      "text/html": [
       "<div>\n",
       "<style scoped>\n",
       "    .dataframe tbody tr th:only-of-type {\n",
       "        vertical-align: middle;\n",
       "    }\n",
       "\n",
       "    .dataframe tbody tr th {\n",
       "        vertical-align: top;\n",
       "    }\n",
       "\n",
       "    .dataframe thead th {\n",
       "        text-align: right;\n",
       "    }\n",
       "</style>\n",
       "<table border=\"1\" class=\"dataframe\">\n",
       "  <thead>\n",
       "    <tr style=\"text-align: right;\">\n",
       "      <th></th>\n",
       "      <th>number_of_schools</th>\n",
       "      <th>number_of_students</th>\n",
       "      <th>total_budget</th>\n",
       "      <th>avg_math_score</th>\n",
       "      <th>avg_reading_score</th>\n",
       "      <th>overall_passing_rate</th>\n",
       "      <th>percent_passing_math</th>\n",
       "      <th>percent_passing_reading</th>\n",
       "    </tr>\n",
       "  </thead>\n",
       "  <tbody>\n",
       "    <tr>\n",
       "      <th>0</th>\n",
       "      <td>15</td>\n",
       "      <td>39170</td>\n",
       "      <td>82932329558</td>\n",
       "      <td>78.985371</td>\n",
       "      <td>81.87784</td>\n",
       "      <td>80.431606</td>\n",
       "      <td>74.980853</td>\n",
       "      <td>85.805463</td>\n",
       "    </tr>\n",
       "  </tbody>\n",
       "</table>\n",
       "</div>"
      ],
      "text/plain": [
       "   number_of_schools  number_of_students  total_budget  avg_math_score  \\\n",
       "0                 15               39170   82932329558       78.985371   \n",
       "\n",
       "   avg_reading_score  overall_passing_rate  percent_passing_math  \\\n",
       "0           81.87784             80.431606             74.980853   \n",
       "\n",
       "   percent_passing_reading  \n",
       "0                85.805463  "
      ]
     },
     "metadata": {},
     "output_type": "display_data"
    }
   ],
   "source": [
    "# Create a DataFrame holding all of the newly calculated values\n",
    "\n",
    "# Create district summary dictionary\n",
    "district_summary = {\n",
    "    'number_of_schools': number_of_schools,\n",
    "    'number_of_students': number_of_students,\n",
    "    'total_budget': total_budget,\n",
    "    'avg_math_score': avg_math_score,\n",
    "    'avg_reading_score': avg_reading_score,\n",
    "    'overall_passing_rate': overall_passing_rate,\n",
    "    'percent_passing_math': percent_passing_math,\n",
    "    'percent_passing_reading': percent_passing_reading\n",
    "}\n",
    "\n",
    "# Convert dictionary to DataFrame\n",
    "df_district_summary = pd.DataFrame([district_summary])\n",
    "display(df_district_summary)\n"
   ]
  },
  {
   "cell_type": "markdown",
   "metadata": {},
   "source": [
    "## School Summary"
   ]
  },
  {
   "cell_type": "markdown",
   "metadata": {},
   "source": [
    "### Top Performing Schools (By Passing Rate)"
   ]
  },
  {
   "cell_type": "code",
   "execution_count": 36,
   "metadata": {
    "ExecuteTime": {
     "end_time": "2023-10-12T00:47:38.899795Z",
     "start_time": "2023-10-12T00:47:38.874768Z"
    },
    "scrolled": true
   },
   "outputs": [
    {
     "name": "stdout",
     "output_type": "stream",
     "text": [
      "school_name\n",
      "Bailey High School       3124928\n",
      "Cabrera High School      1081356\n",
      "Figueroa High School     1884411\n",
      "Ford High School         1763916\n",
      "Griffin High School       917500\n",
      "Hernandez High School    3022020\n",
      "Holden High School        248087\n",
      "Huang High School        1910635\n",
      "Johnson High School      3094650\n",
      "Pena High School          585858\n",
      "Rodriguez High School    2547363\n",
      "Shelton High School      1056600\n",
      "Thomas High School       1043130\n",
      "Wilson High School       1319574\n",
      "Wright High School       1049400\n",
      "Name: budget, dtype: int64\n"
     ]
    }
   ],
   "source": [
    "# Calculate total school budget\n",
    "total_school_budget = school_data_complete.groupby(\n",
    "    'school_name').first()['budget']\n",
    "print(total_school_budget)\n"
   ]
  },
  {
   "cell_type": "code",
   "execution_count": 37,
   "metadata": {
    "ExecuteTime": {
     "end_time": "2023-10-12T04:44:11.232065Z",
     "start_time": "2023-10-12T04:44:11.216605Z"
    }
   },
   "outputs": [
    {
     "name": "stdout",
     "output_type": "stream",
     "text": [
      "Bailey High School       628.0\n",
      "Cabrera High School      582.0\n",
      "Figueroa High School     639.0\n",
      "Ford High School         644.0\n",
      "Griffin High School      625.0\n",
      "Hernandez High School    652.0\n",
      "Holden High School       581.0\n",
      "Huang High School        655.0\n",
      "Johnson High School      650.0\n",
      "Pena High School         609.0\n",
      "Rodriguez High School    637.0\n",
      "Shelton High School      600.0\n",
      "Thomas High School       638.0\n",
      "Wilson High School       578.0\n",
      "Wright High School       583.0\n",
      "dtype: float64\n"
     ]
    }
   ],
   "source": [
    "# Calculate per student budget\n",
    "\n",
    "# Calculate count of students per school\n",
    "student_counts = school_data_complete['school_name'].value_counts()\n",
    "\n",
    "# Calculate budget per student\n",
    "budget_per_student = total_school_budget / student_counts\n",
    "print(budget_per_student)\n"
   ]
  },
  {
   "cell_type": "code",
   "execution_count": 38,
   "metadata": {
    "ExecuteTime": {
     "end_time": "2023-10-12T04:48:53.521576Z",
     "start_time": "2023-10-12T04:48:53.504051Z"
    }
   },
   "outputs": [
    {
     "name": "stdout",
     "output_type": "stream",
     "text": [
      "school_name\n",
      "Bailey High School       77.048432\n",
      "Cabrera High School      83.061895\n",
      "Figueroa High School     76.711767\n",
      "Ford High School         77.102592\n",
      "Griffin High School      83.351499\n",
      "Hernandez High School    77.289752\n",
      "Holden High School       83.803279\n",
      "Huang High School        76.629414\n",
      "Johnson High School      77.072464\n",
      "Pena High School         83.839917\n",
      "Rodriguez High School    76.842711\n",
      "Shelton High School      83.359455\n",
      "Thomas High School       83.418349\n",
      "Wilson High School       83.274201\n",
      "Wright High School       83.682222\n",
      "Name: math_score, dtype: float64\n",
      "81.87784018381414\n"
     ]
    }
   ],
   "source": [
    "# Cacluate the avg math and reading score\n",
    "\n",
    "# Calculate avg math score per school\n",
    "avg_math_score_per_school = school_data_complete.groupby(\n",
    "    'school_name')['math_score'].mean()\n",
    "print(avg_math_score_per_school)\n",
    "\n",
    "# Calculate avg reading score per school\n",
    "avg_reading_score_per_school = school_data_complete.groupby(\n",
    "    'school_name')['reading_score'].mean()\n",
    "print(avg_reading_score)\n"
   ]
  },
  {
   "cell_type": "code",
   "execution_count": 39,
   "metadata": {
    "ExecuteTime": {
     "end_time": "2023-10-12T05:03:16.127489Z",
     "start_time": "2023-10-12T05:03:16.105519Z"
    }
   },
   "outputs": [
    {
     "name": "stdout",
     "output_type": "stream",
     "text": [
      "school_name\n",
      "Bailey High School       4976\n",
      "Cabrera High School      1858\n",
      "Figueroa High School     2949\n",
      "Ford High School         2739\n",
      "Griffin High School      1468\n",
      "Hernandez High School    4635\n",
      "Holden High School        427\n",
      "Huang High School        2917\n",
      "Johnson High School      4761\n",
      "Pena High School          962\n",
      "Rodriguez High School    3999\n",
      "Shelton High School      1761\n",
      "Thomas High School       1635\n",
      "Wilson High School       2283\n",
      "Wright High School       1800\n",
      "Name: math_score, dtype: int64\n",
      "school_name\n",
      "Bailey High School       3318\n",
      "Cabrera High School      1749\n",
      "Figueroa High School     1946\n",
      "Ford High School         1871\n",
      "Griffin High School      1371\n",
      "Hernandez High School    3094\n",
      "Holden High School        395\n",
      "Huang High School        1916\n",
      "Johnson High School      3145\n",
      "Pena High School          910\n",
      "Rodriguez High School    2654\n",
      "Shelton High School      1653\n",
      "Thomas High School       1525\n",
      "Wilson High School       2143\n",
      "Wright High School       1680\n",
      "Name: math_score, dtype: int64\n",
      "school_name\n",
      "Bailey High School       66.680064\n",
      "Cabrera High School      94.133477\n",
      "Figueroa High School     65.988471\n",
      "Ford High School         68.309602\n",
      "Griffin High School      93.392371\n",
      "Hernandez High School    66.752967\n",
      "Holden High School       92.505855\n",
      "Huang High School        65.683922\n",
      "Johnson High School      66.057551\n",
      "Pena High School         94.594595\n",
      "Rodriguez High School    66.366592\n",
      "Shelton High School      93.867121\n",
      "Thomas High School       93.272171\n",
      "Wilson High School       93.867718\n",
      "Wright High School       93.333333\n",
      "Name: math_score, dtype: float64\n"
     ]
    }
   ],
   "source": [
    "# Find the total count of math scores by school\n",
    "math_score_count_by_school = school_data_complete.groupby(\n",
    "    'school_name')['math_score'].count()\n",
    "print(math_score_count_by_school)\n",
    "\n",
    "# Find the count for math result in each school that pass with 70 or higher\n",
    "passing_math = school_data_complete['math_score'] >= 70\n",
    "passing_math_scores = school_data_complete[passing_math]\n",
    "passing_math_score_count_per_school = passing_math_scores.groupby(\n",
    "    'school_name')['math_score'].count()\n",
    "print(passing_math_score_count_per_school)\n",
    "\n",
    "# Calculate the math passing rate\n",
    "passing_math_rate_per_school = (passing_math_score_count_per_school /\n",
    "                                math_score_count_by_school) * 100\n",
    "print(passing_math_rate_per_school)\n"
   ]
  },
  {
   "cell_type": "code",
   "execution_count": 40,
   "metadata": {
    "ExecuteTime": {
     "end_time": "2023-10-12T05:06:54.222236Z",
     "start_time": "2023-10-12T05:06:54.197538Z"
    }
   },
   "outputs": [
    {
     "name": "stdout",
     "output_type": "stream",
     "text": [
      "school_name\n",
      "Bailey High School       4976\n",
      "Cabrera High School      1858\n",
      "Figueroa High School     2949\n",
      "Ford High School         2739\n",
      "Griffin High School      1468\n",
      "Hernandez High School    4635\n",
      "Holden High School        427\n",
      "Huang High School        2917\n",
      "Johnson High School      4761\n",
      "Pena High School          962\n",
      "Rodriguez High School    3999\n",
      "Shelton High School      1761\n",
      "Thomas High School       1635\n",
      "Wilson High School       2283\n",
      "Wright High School       1800\n",
      "Name: reading_score, dtype: int64\n",
      "school_name\n",
      "Bailey High School       4077\n",
      "Cabrera High School      1803\n",
      "Figueroa High School     2381\n",
      "Ford High School         2172\n",
      "Griffin High School      1426\n",
      "Hernandez High School    3748\n",
      "Holden High School        411\n",
      "Huang High School        2372\n",
      "Johnson High School      3867\n",
      "Pena High School          923\n",
      "Rodriguez High School    3208\n",
      "Shelton High School      1688\n",
      "Thomas High School       1591\n",
      "Wilson High School       2204\n",
      "Wright High School       1739\n",
      "Name: reading_score, dtype: int64\n",
      "school_name\n",
      "Bailey High School       81.933280\n",
      "Cabrera High School      97.039828\n",
      "Figueroa High School     80.739234\n",
      "Ford High School         79.299014\n",
      "Griffin High School      97.138965\n",
      "Hernandez High School    80.862999\n",
      "Holden High School       96.252927\n",
      "Huang High School        81.316421\n",
      "Johnson High School      81.222432\n",
      "Pena High School         95.945946\n",
      "Rodriguez High School    80.220055\n",
      "Shelton High School      95.854628\n",
      "Thomas High School       97.308869\n",
      "Wilson High School       96.539641\n",
      "Wright High School       96.611111\n",
      "Name: reading_score, dtype: float64\n"
     ]
    }
   ],
   "source": [
    "# Find the total count of read result\n",
    "reading_score_count_by_school = school_data_complete.groupby(\n",
    "    'school_name')['reading_score'].count()\n",
    "print(reading_score_count_by_school)\n",
    "\n",
    "# Find the count for read result in each school that pass 70 or higher\n",
    "passing_reading = school_data_complete['reading_score'] >= 70\n",
    "passing_reading_scores = school_data_complete[passing_reading]\n",
    "passing_reading_score_count_per_school = passing_reading_scores.groupby(\n",
    "    'school_name')['reading_score'].count()\n",
    "print(passing_reading_score_count_per_school)\n",
    "\n",
    "# Calculate the read passing rate\n",
    "passing_reading_rate_per_school = (passing_reading_score_count_per_school /\n",
    "                                   reading_score_count_by_school) * 100\n",
    "print(passing_reading_rate_per_school)\n"
   ]
  },
  {
   "cell_type": "code",
   "execution_count": 41,
   "metadata": {
    "ExecuteTime": {
     "end_time": "2023-10-12T05:08:49.664299Z",
     "start_time": "2023-10-12T05:08:49.659243Z"
    }
   },
   "outputs": [
    {
     "name": "stdout",
     "output_type": "stream",
     "text": [
      "school_name\n",
      "Bailey High School       74.306672\n",
      "Cabrera High School      95.586652\n",
      "Figueroa High School     73.363852\n",
      "Ford High School         73.804308\n",
      "Griffin High School      95.265668\n",
      "Hernandez High School    73.807983\n",
      "Holden High School       94.379391\n",
      "Huang High School        73.500171\n",
      "Johnson High School      73.639992\n",
      "Pena High School         95.270270\n",
      "Rodriguez High School    73.293323\n",
      "Shelton High School      94.860875\n",
      "Thomas High School       95.290520\n",
      "Wilson High School       95.203679\n",
      "Wright High School       94.972222\n",
      "dtype: float64\n"
     ]
    }
   ],
   "source": [
    "# Calculate the overall passing rate (average of the math and reading passing rate)\n",
    "overall_passing_rate_per_school = (passing_math_rate_per_school +\n",
    "                                   passing_reading_rate_per_school) / 2\n",
    "print(overall_passing_rate_per_school)\n"
   ]
  },
  {
   "cell_type": "code",
   "execution_count": 42,
   "metadata": {
    "ExecuteTime": {
     "end_time": "2023-10-12T05:15:13.170561Z",
     "start_time": "2023-10-12T05:15:13.164312Z"
    }
   },
   "outputs": [
    {
     "name": "stdout",
     "output_type": "stream",
     "text": [
      "school_name\n",
      "Cabrera High School    95.586652\n",
      "Thomas High School     95.290520\n",
      "Pena High School       95.270270\n",
      "Griffin High School    95.265668\n",
      "Wilson High School     95.203679\n",
      "dtype: float64\n"
     ]
    }
   ],
   "source": [
    "# Sort and display the top five schools in overall passing rate\n",
    "top_schools = overall_passing_rate_per_school.sort_values(ascending=False)\n",
    "top_five_schools = top_schools.head()\n",
    "print(top_five_schools)\n"
   ]
  },
  {
   "cell_type": "markdown",
   "metadata": {},
   "source": [
    "### Bottom Performing Schools (By Passing Rate)"
   ]
  },
  {
   "cell_type": "code",
   "execution_count": 43,
   "metadata": {
    "ExecuteTime": {
     "end_time": "2023-10-12T05:18:25.488381Z",
     "start_time": "2023-10-12T05:18:25.481743Z"
    }
   },
   "outputs": [
    {
     "name": "stdout",
     "output_type": "stream",
     "text": [
      "school_name\n",
      "Rodriguez High School    73.293323\n",
      "Figueroa High School     73.363852\n",
      "Huang High School        73.500171\n",
      "Johnson High School      73.639992\n",
      "Ford High School         73.804308\n",
      "dtype: float64\n"
     ]
    }
   ],
   "source": [
    "#  Sort and display the worst five schools in overall passing rate\n",
    "bottom_schools = overall_passing_rate_per_school.sort_values(ascending=True)\n",
    "bottom_five_schools = bottom_schools.head()\n",
    "print(bottom_five_schools)\n"
   ]
  },
  {
   "cell_type": "markdown",
   "metadata": {
    "collapsed": true
   },
   "source": [
    "## Math Scores by Grade"
   ]
  },
  {
   "cell_type": "code",
   "execution_count": 45,
   "metadata": {
    "ExecuteTime": {
     "end_time": "2023-10-12T00:18:49.374510Z",
     "start_time": "2023-10-12T00:18:49.373479Z"
    }
   },
   "outputs": [
    {
     "name": "stdout",
     "output_type": "stream",
     "text": [
      "school_name\n",
      "Bailey High School       77.083676\n",
      "Cabrera High School      83.094697\n",
      "Figueroa High School     76.403037\n",
      "Ford High School         77.361345\n",
      "Griffin High School      82.044010\n",
      "Hernandez High School    77.438495\n",
      "Holden High School       83.787402\n",
      "Huang High School        77.027251\n",
      "Johnson High School      77.187857\n",
      "Pena High School         83.625455\n",
      "Rodriguez High School    76.859966\n",
      "Shelton High School      83.420755\n",
      "Thomas High School       83.590022\n",
      "Wilson High School       83.085578\n",
      "Wright High School       83.264706\n",
      "Name: math_score, dtype: float64\n"
     ]
    }
   ],
   "source": [
    "# Calculate the average math score for 9th grade in each school\n",
    "\n",
    "# Filter the data for 9th graders\n",
    "ninth_graders = school_data_complete[school_data_complete['grade'] == '9th']\n",
    "\n",
    "# Calculate the average math score for 9th graders by school\n",
    "avg_9th_grade_math_score = ninth_graders.groupby(\n",
    "    'school_name')['math_score'].mean()\n",
    "print(avg_9th_grade_math_score)\n"
   ]
  },
  {
   "cell_type": "code",
   "execution_count": 46,
   "metadata": {
    "ExecuteTime": {
     "end_time": "2023-10-12T00:18:49.376133Z",
     "start_time": "2023-10-12T00:18:49.374996Z"
    }
   },
   "outputs": [
    {
     "data": {
      "text/plain": [
       "school_name\n",
       "Bailey High School       76.996772\n",
       "Cabrera High School      83.154506\n",
       "Figueroa High School     76.539974\n",
       "Ford High School         77.672316\n",
       "Griffin High School      84.229064\n",
       "Hernandez High School    77.337408\n",
       "Holden High School       83.429825\n",
       "Huang High School        75.908735\n",
       "Johnson High School      76.691117\n",
       "Pena High School         83.372000\n",
       "Rodriguez High School    76.612500\n",
       "Shelton High School      82.917411\n",
       "Thomas High School       83.087886\n",
       "Wilson High School       83.724422\n",
       "Wright High School       84.010288\n",
       "Name: math_score, dtype: float64"
      ]
     },
     "metadata": {},
     "output_type": "display_data"
    }
   ],
   "source": [
    "# Calculate the average math score for 10th grade in each school\n",
    "\n",
    "# Filter the data for 10th graders\n",
    "tenth_graders = school_data_complete[school_data_complete['grade'] == '10th']\n",
    "\n",
    "# Calculate the average math score for 10th graders by school\n",
    "avg_10th_grade_math_score = tenth_graders.groupby(\n",
    "    'school_name')['math_score'].mean()\n",
    "display(avg_10th_grade_math_score)\n"
   ]
  },
  {
   "cell_type": "code",
   "execution_count": 47,
   "metadata": {
    "ExecuteTime": {
     "end_time": "2023-10-12T00:18:49.377754Z",
     "start_time": "2023-10-12T00:18:49.376577Z"
    }
   },
   "outputs": [
    {
     "data": {
      "text/plain": [
       "school_name\n",
       "Bailey High School       77.515588\n",
       "Cabrera High School      82.765560\n",
       "Figueroa High School     76.884344\n",
       "Ford High School         76.918058\n",
       "Griffin High School      83.842105\n",
       "Hernandez High School    77.136029\n",
       "Holden High School       85.000000\n",
       "Huang High School        76.446602\n",
       "Johnson High School      77.491653\n",
       "Pena High School         84.328125\n",
       "Rodriguez High School    76.395626\n",
       "Shelton High School      83.383495\n",
       "Thomas High School       83.498795\n",
       "Wilson High School       83.195326\n",
       "Wright High School       83.836782\n",
       "Name: math_score, dtype: float64"
      ]
     },
     "metadata": {},
     "output_type": "display_data"
    }
   ],
   "source": [
    "# Calculate the average math score for 11th grade in each school\n",
    "\n",
    "# Filter the data for 11th graders\n",
    "eleventh_graders = school_data_complete[school_data_complete['grade'] ==\n",
    "                                        '11th']\n",
    "\n",
    "# Calculate the average math score for 11th graders by school\n",
    "avg_11th_grade_math_score = eleventh_graders.groupby(\n",
    "    'school_name')['math_score'].mean()\n",
    "display(avg_11th_grade_math_score)\n"
   ]
  },
  {
   "cell_type": "code",
   "execution_count": 48,
   "metadata": {
    "ExecuteTime": {
     "end_time": "2023-10-12T00:18:49.379442Z",
     "start_time": "2023-10-12T00:18:49.378369Z"
    }
   },
   "outputs": [
    {
     "data": {
      "text/plain": [
       "school_name\n",
       "Bailey High School       76.492218\n",
       "Cabrera High School      83.277487\n",
       "Figueroa High School     77.151369\n",
       "Ford High School         76.179963\n",
       "Griffin High School      83.356164\n",
       "Hernandez High School    77.186567\n",
       "Holden High School       82.855422\n",
       "Huang High School        77.225641\n",
       "Johnson High School      76.863248\n",
       "Pena High School         84.121547\n",
       "Rodriguez High School    77.690748\n",
       "Shelton High School      83.778976\n",
       "Thomas High School       83.497041\n",
       "Wilson High School       83.035794\n",
       "Wright High School       83.644986\n",
       "Name: math_score, dtype: float64"
      ]
     },
     "metadata": {},
     "output_type": "display_data"
    }
   ],
   "source": [
    "# Calculate the average math score for 12th grade in each school\n",
    "\n",
    "# Filter the data for 12th graders\n",
    "twelfth_graders = school_data_complete[school_data_complete['grade'] == '12th']\n",
    "\n",
    "# Calculate the average math score for 12th graders by school\n",
    "avg_12th_grade_math_score = twelfth_graders.groupby(\n",
    "    'school_name')['math_score'].mean()\n",
    "display(avg_12th_grade_math_score)\n"
   ]
  },
  {
   "cell_type": "code",
   "execution_count": 49,
   "metadata": {},
   "outputs": [
    {
     "data": {
      "text/html": [
       "<div>\n",
       "<style scoped>\n",
       "    .dataframe tbody tr th:only-of-type {\n",
       "        vertical-align: middle;\n",
       "    }\n",
       "\n",
       "    .dataframe tbody tr th {\n",
       "        vertical-align: top;\n",
       "    }\n",
       "\n",
       "    .dataframe thead th {\n",
       "        text-align: right;\n",
       "    }\n",
       "</style>\n",
       "<table border=\"1\" class=\"dataframe\">\n",
       "  <thead>\n",
       "    <tr style=\"text-align: right;\">\n",
       "      <th></th>\n",
       "      <th>avg_9th_grade_math_score</th>\n",
       "      <th>avg_10th_grade_math_score</th>\n",
       "      <th>avg_11th_grade_math_score</th>\n",
       "      <th>avg_12th_grade_math_score</th>\n",
       "    </tr>\n",
       "    <tr>\n",
       "      <th>school_name</th>\n",
       "      <th></th>\n",
       "      <th></th>\n",
       "      <th></th>\n",
       "      <th></th>\n",
       "    </tr>\n",
       "  </thead>\n",
       "  <tbody>\n",
       "    <tr>\n",
       "      <th>Bailey High School</th>\n",
       "      <td>77.083676</td>\n",
       "      <td>76.996772</td>\n",
       "      <td>77.515588</td>\n",
       "      <td>76.492218</td>\n",
       "    </tr>\n",
       "    <tr>\n",
       "      <th>Cabrera High School</th>\n",
       "      <td>83.094697</td>\n",
       "      <td>83.154506</td>\n",
       "      <td>82.765560</td>\n",
       "      <td>83.277487</td>\n",
       "    </tr>\n",
       "    <tr>\n",
       "      <th>Figueroa High School</th>\n",
       "      <td>76.403037</td>\n",
       "      <td>76.539974</td>\n",
       "      <td>76.884344</td>\n",
       "      <td>77.151369</td>\n",
       "    </tr>\n",
       "    <tr>\n",
       "      <th>Ford High School</th>\n",
       "      <td>77.361345</td>\n",
       "      <td>77.672316</td>\n",
       "      <td>76.918058</td>\n",
       "      <td>76.179963</td>\n",
       "    </tr>\n",
       "    <tr>\n",
       "      <th>Griffin High School</th>\n",
       "      <td>82.044010</td>\n",
       "      <td>84.229064</td>\n",
       "      <td>83.842105</td>\n",
       "      <td>83.356164</td>\n",
       "    </tr>\n",
       "  </tbody>\n",
       "</table>\n",
       "</div>"
      ],
      "text/plain": [
       "                      avg_9th_grade_math_score  avg_10th_grade_math_score  \\\n",
       "school_name                                                                 \n",
       "Bailey High School                   77.083676                  76.996772   \n",
       "Cabrera High School                  83.094697                  83.154506   \n",
       "Figueroa High School                 76.403037                  76.539974   \n",
       "Ford High School                     77.361345                  77.672316   \n",
       "Griffin High School                  82.044010                  84.229064   \n",
       "\n",
       "                      avg_11th_grade_math_score  avg_12th_grade_math_score  \n",
       "school_name                                                                 \n",
       "Bailey High School                    77.515588                  76.492218  \n",
       "Cabrera High School                   82.765560                  83.277487  \n",
       "Figueroa High School                  76.884344                  77.151369  \n",
       "Ford High School                      76.918058                  76.179963  \n",
       "Griffin High School                   83.842105                  83.356164  "
      ]
     },
     "metadata": {},
     "output_type": "display_data"
    }
   ],
   "source": [
    "# Create a DataFrame using the newly calculated series\n",
    "\n",
    "# Create a dict with the newly calculated series\n",
    "school_avg_math_scores_by_grade = {\n",
    "    'avg_9th_grade_math_score': avg_9th_grade_math_score,\n",
    "    'avg_10th_grade_math_score': avg_10th_grade_math_score,\n",
    "    'avg_11th_grade_math_score': avg_11th_grade_math_score,\n",
    "    'avg_12th_grade_math_score': avg_12th_grade_math_score\n",
    "}\n",
    "\n",
    "# Convert dict into DataFrame\n",
    "df_school_avg_math_scores_by_grade = pd.DataFrame(\n",
    "    school_avg_math_scores_by_grade)\n",
    "display(df_school_avg_math_scores_by_grade.head())\n"
   ]
  },
  {
   "cell_type": "markdown",
   "metadata": {},
   "source": [
    "### Reading Score by Grade "
   ]
  },
  {
   "cell_type": "code",
   "execution_count": 51,
   "metadata": {
    "ExecuteTime": {
     "end_time": "2023-10-12T00:18:49.383094Z",
     "start_time": "2023-10-12T00:18:49.381811Z"
    }
   },
   "outputs": [
    {
     "data": {
      "text/plain": [
       "school_name\n",
       "Bailey High School       81.303155\n",
       "Cabrera High School      83.676136\n",
       "Figueroa High School     81.198598\n",
       "Ford High School         80.632653\n",
       "Griffin High School      83.369193\n",
       "Hernandez High School    80.866860\n",
       "Holden High School       83.677165\n",
       "Huang High School        81.290284\n",
       "Johnson High School      81.260714\n",
       "Pena High School         83.807273\n",
       "Rodriguez High School    80.993127\n",
       "Shelton High School      84.122642\n",
       "Thomas High School       83.728850\n",
       "Wilson High School       83.939778\n",
       "Wright High School       83.833333\n",
       "Name: reading_score, dtype: float64"
      ]
     },
     "metadata": {},
     "output_type": "display_data"
    }
   ],
   "source": [
    "# Calculate the average reading score for 9th grade in each school\n",
    "avg_9th_grade_reading_score = ninth_graders.groupby(\n",
    "    'school_name')['reading_score'].mean()\n",
    "display(avg_9th_grade_reading_score)\n"
   ]
  },
  {
   "cell_type": "code",
   "execution_count": 52,
   "metadata": {
    "ExecuteTime": {
     "end_time": "2023-10-12T00:18:49.384786Z",
     "start_time": "2023-10-12T00:18:49.383647Z"
    }
   },
   "outputs": [
    {
     "data": {
      "text/plain": [
       "school_name\n",
       "Bailey High School       80.907183\n",
       "Cabrera High School      84.253219\n",
       "Figueroa High School     81.408912\n",
       "Ford High School         81.262712\n",
       "Griffin High School      83.706897\n",
       "Hernandez High School    80.660147\n",
       "Holden High School       83.324561\n",
       "Huang High School        81.512386\n",
       "Johnson High School      80.773431\n",
       "Pena High School         83.612000\n",
       "Rodriguez High School    80.629808\n",
       "Shelton High School      83.441964\n",
       "Thomas High School       84.254157\n",
       "Wilson High School       84.021452\n",
       "Wright High School       83.812757\n",
       "Name: reading_score, dtype: float64"
      ]
     },
     "metadata": {},
     "output_type": "display_data"
    }
   ],
   "source": [
    "# Calculate the average reading score for 10th grade in each school\n",
    "avg_10th_grade_reading_score = tenth_graders.groupby(\n",
    "    'school_name')['reading_score'].mean()\n",
    "display(avg_10th_grade_reading_score)\n"
   ]
  },
  {
   "cell_type": "code",
   "execution_count": 53,
   "metadata": {
    "ExecuteTime": {
     "end_time": "2023-10-12T00:18:49.389015Z",
     "start_time": "2023-10-12T00:18:49.387860Z"
    }
   },
   "outputs": [
    {
     "data": {
      "text/plain": [
       "school_name\n",
       "Bailey High School       80.945643\n",
       "Cabrera High School      83.788382\n",
       "Figueroa High School     80.640339\n",
       "Ford High School         80.403642\n",
       "Griffin High School      84.288089\n",
       "Hernandez High School    81.396140\n",
       "Holden High School       83.815534\n",
       "Huang High School        81.417476\n",
       "Johnson High School      80.616027\n",
       "Pena High School         84.335938\n",
       "Rodriguez High School    80.864811\n",
       "Shelton High School      84.373786\n",
       "Thomas High School       83.585542\n",
       "Wilson High School       83.764608\n",
       "Wright High School       84.156322\n",
       "Name: reading_score, dtype: float64"
      ]
     },
     "metadata": {},
     "output_type": "display_data"
    }
   ],
   "source": [
    "# Calculate the average reading score for 11th grade in each school\n",
    "avg_11th_grade_reading_score = eleventh_graders.groupby(\n",
    "    'school_name')['reading_score'].mean()\n",
    "display(avg_11th_grade_reading_score)\n"
   ]
  },
  {
   "cell_type": "code",
   "execution_count": 54,
   "metadata": {
    "ExecuteTime": {
     "end_time": "2023-10-12T00:18:49.390903Z",
     "start_time": "2023-10-12T00:18:49.389492Z"
    }
   },
   "outputs": [
    {
     "data": {
      "text/plain": [
       "school_name\n",
       "Bailey High School       80.912451\n",
       "Cabrera High School      84.287958\n",
       "Figueroa High School     81.384863\n",
       "Ford High School         80.662338\n",
       "Griffin High School      84.013699\n",
       "Hernandez High School    80.857143\n",
       "Holden High School       84.698795\n",
       "Huang High School        80.305983\n",
       "Johnson High School      81.227564\n",
       "Pena High School         84.591160\n",
       "Rodriguez High School    80.376426\n",
       "Shelton High School      82.781671\n",
       "Thomas High School       83.831361\n",
       "Wilson High School       84.317673\n",
       "Wright High School       84.073171\n",
       "Name: reading_score, dtype: float64"
      ]
     },
     "metadata": {},
     "output_type": "display_data"
    }
   ],
   "source": [
    "# Calculate the average reading score for 12th grade in each school\n",
    "avg_12th_grade_reading_score = twelfth_graders.groupby(\n",
    "    'school_name')['reading_score'].mean()\n",
    "display(avg_12th_grade_reading_score)\n"
   ]
  },
  {
   "cell_type": "code",
   "execution_count": 55,
   "metadata": {},
   "outputs": [
    {
     "data": {
      "text/html": [
       "<div>\n",
       "<style scoped>\n",
       "    .dataframe tbody tr th:only-of-type {\n",
       "        vertical-align: middle;\n",
       "    }\n",
       "\n",
       "    .dataframe tbody tr th {\n",
       "        vertical-align: top;\n",
       "    }\n",
       "\n",
       "    .dataframe thead th {\n",
       "        text-align: right;\n",
       "    }\n",
       "</style>\n",
       "<table border=\"1\" class=\"dataframe\">\n",
       "  <thead>\n",
       "    <tr style=\"text-align: right;\">\n",
       "      <th></th>\n",
       "      <th>avg_9th_grade_reading_score</th>\n",
       "      <th>avg_10th_grade_reading_score</th>\n",
       "      <th>avg_11th_grade_reading_score</th>\n",
       "      <th>avg_12th_grade_reading_score</th>\n",
       "    </tr>\n",
       "    <tr>\n",
       "      <th>school_name</th>\n",
       "      <th></th>\n",
       "      <th></th>\n",
       "      <th></th>\n",
       "      <th></th>\n",
       "    </tr>\n",
       "  </thead>\n",
       "  <tbody>\n",
       "    <tr>\n",
       "      <th>Bailey High School</th>\n",
       "      <td>81.303155</td>\n",
       "      <td>80.907183</td>\n",
       "      <td>80.945643</td>\n",
       "      <td>80.912451</td>\n",
       "    </tr>\n",
       "    <tr>\n",
       "      <th>Cabrera High School</th>\n",
       "      <td>83.676136</td>\n",
       "      <td>84.253219</td>\n",
       "      <td>83.788382</td>\n",
       "      <td>84.287958</td>\n",
       "    </tr>\n",
       "    <tr>\n",
       "      <th>Figueroa High School</th>\n",
       "      <td>81.198598</td>\n",
       "      <td>81.408912</td>\n",
       "      <td>80.640339</td>\n",
       "      <td>81.384863</td>\n",
       "    </tr>\n",
       "    <tr>\n",
       "      <th>Ford High School</th>\n",
       "      <td>80.632653</td>\n",
       "      <td>81.262712</td>\n",
       "      <td>80.403642</td>\n",
       "      <td>80.662338</td>\n",
       "    </tr>\n",
       "    <tr>\n",
       "      <th>Griffin High School</th>\n",
       "      <td>83.369193</td>\n",
       "      <td>83.706897</td>\n",
       "      <td>84.288089</td>\n",
       "      <td>84.013699</td>\n",
       "    </tr>\n",
       "  </tbody>\n",
       "</table>\n",
       "</div>"
      ],
      "text/plain": [
       "                      avg_9th_grade_reading_score  \\\n",
       "school_name                                         \n",
       "Bailey High School                      81.303155   \n",
       "Cabrera High School                     83.676136   \n",
       "Figueroa High School                    81.198598   \n",
       "Ford High School                        80.632653   \n",
       "Griffin High School                     83.369193   \n",
       "\n",
       "                      avg_10th_grade_reading_score  \\\n",
       "school_name                                          \n",
       "Bailey High School                       80.907183   \n",
       "Cabrera High School                      84.253219   \n",
       "Figueroa High School                     81.408912   \n",
       "Ford High School                         81.262712   \n",
       "Griffin High School                      83.706897   \n",
       "\n",
       "                      avg_11th_grade_reading_score  \\\n",
       "school_name                                          \n",
       "Bailey High School                       80.945643   \n",
       "Cabrera High School                      83.788382   \n",
       "Figueroa High School                     80.640339   \n",
       "Ford High School                         80.403642   \n",
       "Griffin High School                      84.288089   \n",
       "\n",
       "                      avg_12th_grade_reading_score  \n",
       "school_name                                         \n",
       "Bailey High School                       80.912451  \n",
       "Cabrera High School                      84.287958  \n",
       "Figueroa High School                     81.384863  \n",
       "Ford High School                         80.662338  \n",
       "Griffin High School                      84.013699  "
      ]
     },
     "metadata": {},
     "output_type": "display_data"
    }
   ],
   "source": [
    "# Create a DataFrame that holds all the newly calculated values\n",
    "\n",
    "# Create a dict with the newly calculated series\n",
    "school_avg_reading_scores_by_grade = {\n",
    "    'avg_9th_grade_reading_score': avg_9th_grade_reading_score,\n",
    "    'avg_10th_grade_reading_score': avg_10th_grade_reading_score,\n",
    "    'avg_11th_grade_reading_score': avg_11th_grade_reading_score,\n",
    "    'avg_12th_grade_reading_score': avg_12th_grade_reading_score\n",
    "}\n",
    "\n",
    "# Convert dict into DataFrame\n",
    "df_school_avg_reading_scores_by_grade = pd.DataFrame(\n",
    "    school_avg_reading_scores_by_grade)\n",
    "display(df_school_avg_reading_scores_by_grade.head())\n"
   ]
  },
  {
   "cell_type": "markdown",
   "metadata": {},
   "source": [
    "## Scores by School Spending"
   ]
  },
  {
   "cell_type": "code",
   "execution_count": 56,
   "metadata": {
    "ExecuteTime": {
     "end_time": "2023-10-12T00:18:49.392775Z",
     "start_time": "2023-10-12T00:18:49.391408Z"
    }
   },
   "outputs": [],
   "source": [
    "# Create bins\n",
    "spending_bins = [0, 585, 615, 645, 675]\n",
    "group_names = [\"<$585\", \"$585-615\", \"$615-645\", \"$645-675\"]\n"
   ]
  },
  {
   "cell_type": "code",
   "execution_count": 57,
   "metadata": {
    "ExecuteTime": {
     "end_time": "2023-10-12T00:18:49.394517Z",
     "start_time": "2023-10-12T00:18:49.393336Z"
    }
   },
   "outputs": [],
   "source": [
    "# Create a new column to show budget per student in each row\n",
    "\n",
    "# Calculate the spending per student\n",
    "school_data_complete['spending_per_student'] = school_data_complete[\n",
    "    'budget'] / school_data_complete['size']\n",
    "\n",
    "# Categorize spending based on the bins\n",
    "school_data_complete['Spending Ranges (Per Student)'] = pd.cut(\n",
    "    school_data_complete['spending_per_student'],\n",
    "    spending_bins,\n",
    "    labels=group_names,\n",
    "    include_lowest=True)\n"
   ]
  },
  {
   "cell_type": "code",
   "execution_count": 58,
   "metadata": {
    "ExecuteTime": {
     "end_time": "2023-10-12T00:18:49.396360Z",
     "start_time": "2023-10-12T00:18:49.395079Z"
    }
   },
   "outputs": [],
   "source": [
    "# Create a new column to define the spending ranges per student\n",
    "grouped_spending = school_data_complete.groupby(\n",
    "    'Spending Ranges (Per Student)')\n"
   ]
  },
  {
   "cell_type": "code",
   "execution_count": 59,
   "metadata": {
    "ExecuteTime": {
     "end_time": "2023-10-12T00:18:49.398134Z",
     "start_time": "2023-10-12T00:18:49.396993Z"
    }
   },
   "outputs": [],
   "source": [
    "# Calculate the average math score within each spending range\n",
    "average_math_score = grouped_spending['math_score'].mean()\n"
   ]
  },
  {
   "cell_type": "code",
   "execution_count": 60,
   "metadata": {},
   "outputs": [],
   "source": [
    "# Calculate the average reading score within each spending range\n",
    "average_reading_score = grouped_spending['reading_score'].mean()\n"
   ]
  },
  {
   "cell_type": "code",
   "execution_count": 61,
   "metadata": {
    "ExecuteTime": {
     "end_time": "2023-10-12T00:18:49.399896Z",
     "start_time": "2023-10-12T00:18:49.398612Z"
    }
   },
   "outputs": [],
   "source": [
    "# Calculate the percentage passing rate for math in each spending range\n",
    "percentage_passing_math = school_data_complete[\n",
    "    school_data_complete['math_score'] >= 70].groupby(\n",
    "        'Spending Ranges (Per Student)').count()['student_name']\n"
   ]
  },
  {
   "cell_type": "code",
   "execution_count": 62,
   "metadata": {
    "ExecuteTime": {
     "end_time": "2023-10-12T00:18:49.404054Z",
     "start_time": "2023-10-12T00:18:49.402042Z"
    }
   },
   "outputs": [],
   "source": [
    "# Calculate the percentage passing rate for reading in each spending range\n",
    "percentage_passing_reading = school_data_complete[\n",
    "    school_data_complete['reading_score'] >= 70].groupby(\n",
    "        'Spending Ranges (Per Student)').count()['student_name']\n"
   ]
  },
  {
   "cell_type": "code",
   "execution_count": 63,
   "metadata": {
    "ExecuteTime": {
     "end_time": "2023-10-12T00:18:49.408658Z",
     "start_time": "2023-10-12T00:18:49.406033Z"
    }
   },
   "outputs": [],
   "source": [
    "# Calculate the percentage overall passing rate in each spending range\n",
    "percentage_overall_passing_rate = (percentage_passing_reading +\n",
    "                                   percentage_passing_math) / 2\n"
   ]
  },
  {
   "cell_type": "code",
   "execution_count": 64,
   "metadata": {},
   "outputs": [
    {
     "data": {
      "text/html": [
       "<div>\n",
       "<style scoped>\n",
       "    .dataframe tbody tr th:only-of-type {\n",
       "        vertical-align: middle;\n",
       "    }\n",
       "\n",
       "    .dataframe tbody tr th {\n",
       "        vertical-align: top;\n",
       "    }\n",
       "\n",
       "    .dataframe thead th {\n",
       "        text-align: right;\n",
       "    }\n",
       "</style>\n",
       "<table border=\"1\" class=\"dataframe\">\n",
       "  <thead>\n",
       "    <tr style=\"text-align: right;\">\n",
       "      <th></th>\n",
       "      <th>Spending Ranges (Per Student)</th>\n",
       "      <th>Average Math Score</th>\n",
       "      <th>Average Reading Score</th>\n",
       "      <th>% Passing Math</th>\n",
       "      <th>% Passing Reading</th>\n",
       "      <th>% Overall Passing</th>\n",
       "    </tr>\n",
       "    <tr>\n",
       "      <th>Spending Ranges (Per Student)</th>\n",
       "      <th></th>\n",
       "      <th></th>\n",
       "      <th></th>\n",
       "      <th></th>\n",
       "      <th></th>\n",
       "      <th></th>\n",
       "    </tr>\n",
       "  </thead>\n",
       "  <tbody>\n",
       "    <tr>\n",
       "      <th>&lt;$585</th>\n",
       "      <td>&lt;$585</td>\n",
       "      <td>83.363065</td>\n",
       "      <td>83.964039</td>\n",
       "      <td>5967</td>\n",
       "      <td>6157</td>\n",
       "      <td>6062.0</td>\n",
       "    </tr>\n",
       "    <tr>\n",
       "      <th>$585-615</th>\n",
       "      <td>$585-615</td>\n",
       "      <td>83.529196</td>\n",
       "      <td>83.838414</td>\n",
       "      <td>2563</td>\n",
       "      <td>2611</td>\n",
       "      <td>2587.0</td>\n",
       "    </tr>\n",
       "    <tr>\n",
       "      <th>$615-645</th>\n",
       "      <td>$615-645</td>\n",
       "      <td>78.061635</td>\n",
       "      <td>81.434088</td>\n",
       "      <td>12685</td>\n",
       "      <td>14855</td>\n",
       "      <td>13770.0</td>\n",
       "    </tr>\n",
       "    <tr>\n",
       "      <th>$645-675</th>\n",
       "      <td>$645-675</td>\n",
       "      <td>77.049297</td>\n",
       "      <td>81.005604</td>\n",
       "      <td>8155</td>\n",
       "      <td>9987</td>\n",
       "      <td>9071.0</td>\n",
       "    </tr>\n",
       "  </tbody>\n",
       "</table>\n",
       "</div>"
      ],
      "text/plain": [
       "                              Spending Ranges (Per Student)  \\\n",
       "Spending Ranges (Per Student)                                 \n",
       "<$585                                                 <$585   \n",
       "$585-615                                           $585-615   \n",
       "$615-645                                           $615-645   \n",
       "$645-675                                           $645-675   \n",
       "\n",
       "                               Average Math Score  Average Reading Score  \\\n",
       "Spending Ranges (Per Student)                                              \n",
       "<$585                                   83.363065              83.964039   \n",
       "$585-615                                83.529196              83.838414   \n",
       "$615-645                                78.061635              81.434088   \n",
       "$645-675                                77.049297              81.005604   \n",
       "\n",
       "                               % Passing Math  % Passing Reading  \\\n",
       "Spending Ranges (Per Student)                                      \n",
       "<$585                                    5967               6157   \n",
       "$585-615                                 2563               2611   \n",
       "$615-645                                12685              14855   \n",
       "$645-675                                 8155               9987   \n",
       "\n",
       "                               % Overall Passing  \n",
       "Spending Ranges (Per Student)                     \n",
       "<$585                                     6062.0  \n",
       "$585-615                                  2587.0  \n",
       "$615-645                                 13770.0  \n",
       "$645-675                                  9071.0  "
      ]
     },
     "metadata": {},
     "output_type": "display_data"
    }
   ],
   "source": [
    "# Assemble into DataFrame\n",
    "scores_by_schools_spending = pd.DataFrame({\n",
    "    'Spending Ranges (Per Student)':\n",
    "    average_math_score.index,\n",
    "    'Average Math Score':\n",
    "    average_math_score,\n",
    "    'Average Reading Score':\n",
    "    average_reading_score,\n",
    "    '% Passing Math':\n",
    "    percentage_passing_math,\n",
    "    '% Passing Reading':\n",
    "    percentage_passing_reading,\n",
    "    '% Overall Passing':\n",
    "    percentage_overall_passing_rate\n",
    "})\n",
    "\n",
    "display(scores_by_schools_spending)"
   ]
  },
  {
   "cell_type": "markdown",
   "metadata": {},
   "source": [
    "### Scores by School Size"
   ]
  },
  {
   "cell_type": "code",
   "execution_count": 65,
   "metadata": {
    "ExecuteTime": {
     "end_time": "2023-10-12T00:18:49.412690Z",
     "start_time": "2023-10-12T00:18:49.410269Z"
    }
   },
   "outputs": [],
   "source": [
    "# Create bins\n",
    "size_bins = [0, 1000, 2000, 5000]\n",
    "group_names = [\"Small (<1000)\", \"Medium (1000-2000)\", \"Large (2000-5000)\"]\n"
   ]
  },
  {
   "cell_type": "code",
   "execution_count": 66,
   "metadata": {
    "ExecuteTime": {
     "end_time": "2023-10-12T00:18:49.415875Z",
     "start_time": "2023-10-12T00:18:49.414500Z"
    },
    "scrolled": true
   },
   "outputs": [],
   "source": [
    "# Create a new column for the bin groups\n",
    "school_data_complete['School Size'] = pd.cut(\n",
    "    school_data_complete['size'], size_bins, labels=group_names, include_lowest=True)\n",
    "\n",
    "# Group by school size\n",
    "grouped_size = school_data_complete.groupby('School Size')\n"
   ]
  },
  {
   "cell_type": "code",
   "execution_count": 67,
   "metadata": {},
   "outputs": [],
   "source": [
    "# Calculate the average scores and passing rates for each size category\n",
    "average_math_score_size = grouped_size['math_score'].mean()\n",
    "average_reading_score_size = grouped_size['reading_score'].mean()\n"
   ]
  },
  {
   "cell_type": "markdown",
   "metadata": {},
   "source": [
    "Look for the total count of test scores that pass 70% or higher\n",
    "\n",
    "\n"
   ]
  },
  {
   "cell_type": "code",
   "execution_count": 68,
   "metadata": {
    "ExecuteTime": {
     "end_time": "2023-10-12T00:18:49.417792Z",
     "start_time": "2023-10-12T00:18:49.416495Z"
    }
   },
   "outputs": [],
   "source": [
    "# math_pass_size\n",
    "# Calculate the total count of students passing math and reading separately\n",
    "math_pass_size = school_data_complete[school_data_complete['math_score'] >= 70].groupby(\n",
    "    'School Size').count()['student_name']"
   ]
  },
  {
   "cell_type": "code",
   "execution_count": 69,
   "metadata": {
    "ExecuteTime": {
     "end_time": "2023-10-12T00:18:49.420235Z",
     "start_time": "2023-10-12T00:18:49.418334Z"
    }
   },
   "outputs": [],
   "source": [
    "# read_pass_size\n",
    "read_pass_size = school_data_complete[school_data_complete['reading_score'] >= 70].groupby(\n",
    "    'School Size').count()['student_name']"
   ]
  },
  {
   "cell_type": "code",
   "execution_count": 70,
   "metadata": {},
   "outputs": [],
   "source": [
    "# Calculate the percentage of students passing math and reading\n",
    "percentage_passing_math_size = (math_pass_size / grouped_size['Student ID'].count()) * 100\n",
    "percentage_passing_reading_size = (read_pass_size / grouped_size['Student ID'].count()) * 100"
   ]
  },
  {
   "cell_type": "code",
   "execution_count": 71,
   "metadata": {
    "ExecuteTime": {
     "end_time": "2023-10-12T00:18:49.422531Z",
     "start_time": "2023-10-12T00:18:49.421097Z"
    }
   },
   "outputs": [],
   "source": [
    "# Calculate the overall passing rate for different school size\n",
    "overall_pass_rate_size = (\n",
    "    percentage_passing_math_size + percentage_passing_reading_size) / 2"
   ]
  },
  {
   "cell_type": "code",
   "execution_count": 72,
   "metadata": {},
   "outputs": [
    {
     "data": {
      "text/html": [
       "<div>\n",
       "<style scoped>\n",
       "    .dataframe tbody tr th:only-of-type {\n",
       "        vertical-align: middle;\n",
       "    }\n",
       "\n",
       "    .dataframe tbody tr th {\n",
       "        vertical-align: top;\n",
       "    }\n",
       "\n",
       "    .dataframe thead th {\n",
       "        text-align: right;\n",
       "    }\n",
       "</style>\n",
       "<table border=\"1\" class=\"dataframe\">\n",
       "  <thead>\n",
       "    <tr style=\"text-align: right;\">\n",
       "      <th></th>\n",
       "      <th>Average Math Score</th>\n",
       "      <th>Average Reading Score</th>\n",
       "      <th>% Passing Math</th>\n",
       "      <th>% Passing Reading</th>\n",
       "      <th>% Overall Passing</th>\n",
       "    </tr>\n",
       "    <tr>\n",
       "      <th>School Size</th>\n",
       "      <th></th>\n",
       "      <th></th>\n",
       "      <th></th>\n",
       "      <th></th>\n",
       "      <th></th>\n",
       "    </tr>\n",
       "  </thead>\n",
       "  <tbody>\n",
       "    <tr>\n",
       "      <th>Small (&lt;1000)</th>\n",
       "      <td>83.828654</td>\n",
       "      <td>83.974082</td>\n",
       "      <td>93.952484</td>\n",
       "      <td>96.040317</td>\n",
       "      <td>94.996400</td>\n",
       "    </tr>\n",
       "    <tr>\n",
       "      <th>Medium (1000-2000)</th>\n",
       "      <td>83.372682</td>\n",
       "      <td>83.867989</td>\n",
       "      <td>93.616522</td>\n",
       "      <td>96.773058</td>\n",
       "      <td>95.194790</td>\n",
       "    </tr>\n",
       "    <tr>\n",
       "      <th>Large (2000-5000)</th>\n",
       "      <td>77.477597</td>\n",
       "      <td>81.198674</td>\n",
       "      <td>68.652380</td>\n",
       "      <td>82.125158</td>\n",
       "      <td>75.388769</td>\n",
       "    </tr>\n",
       "  </tbody>\n",
       "</table>\n",
       "</div>"
      ],
      "text/plain": [
       "                    Average Math Score  Average Reading Score  % Passing Math  \\\n",
       "School Size                                                                     \n",
       "Small (<1000)                83.828654              83.974082       93.952484   \n",
       "Medium (1000-2000)           83.372682              83.867989       93.616522   \n",
       "Large (2000-5000)            77.477597              81.198674       68.652380   \n",
       "\n",
       "                    % Passing Reading  % Overall Passing  \n",
       "School Size                                               \n",
       "Small (<1000)               96.040317          94.996400  \n",
       "Medium (1000-2000)          96.773058          95.194790  \n",
       "Large (2000-5000)           82.125158          75.388769  "
      ]
     },
     "metadata": {},
     "output_type": "display_data"
    }
   ],
   "source": [
    "# Assemble into DataFrame\n",
    "size_summary = pd.DataFrame({\n",
    "    \"Average Math Score\": average_math_score_size,\n",
    "    \"Average Reading Score\": average_reading_score_size,\n",
    "    \"% Passing Math\": percentage_passing_math_size,\n",
    "    \"% Passing Reading\": percentage_passing_reading_size,\n",
    "    \"% Overall Passing\": overall_pass_rate_size\n",
    "})\n",
    "\n",
    "display(size_summary)"
   ]
  },
  {
   "cell_type": "markdown",
   "metadata": {},
   "source": [
    "### Scores by School Type"
   ]
  },
  {
   "cell_type": "code",
   "execution_count": 73,
   "metadata": {
    "ExecuteTime": {
     "end_time": "2023-10-12T00:18:49.424405Z",
     "start_time": "2023-10-12T00:18:49.423281Z"
    }
   },
   "outputs": [],
   "source": [
    "# Group by school type\n",
    "grouped_type = school_data_complete.groupby('type')"
   ]
  },
  {
   "cell_type": "code",
   "execution_count": 74,
   "metadata": {},
   "outputs": [],
   "source": [
    "# Calculate the average scores for each school type\n",
    "average_math_score_type = grouped_type['math_score'].mean()\n",
    "average_reading_score_type = grouped_type['reading_score'].mean()"
   ]
  },
  {
   "cell_type": "markdown",
   "metadata": {},
   "source": [
    "Find counts of the passing 70 or higher score for the both test\n"
   ]
  },
  {
   "cell_type": "code",
   "execution_count": 75,
   "metadata": {
    "ExecuteTime": {
     "end_time": "2023-10-12T00:18:49.426075Z",
     "start_time": "2023-10-12T00:18:49.424982Z"
    }
   },
   "outputs": [],
   "source": [
    "# math pass size\n",
    "math_pass_size = school_data_complete[school_data_complete['math_score'] >= 70].groupby(\n",
    "    'type').count()['student_name']"
   ]
  },
  {
   "cell_type": "code",
   "execution_count": 76,
   "metadata": {
    "ExecuteTime": {
     "end_time": "2023-10-12T00:18:49.427852Z",
     "start_time": "2023-10-12T00:18:49.426685Z"
    }
   },
   "outputs": [],
   "source": [
    "# reading pass size\n",
    "read_pass_size = school_data_complete[school_data_complete['reading_score'] >= 70].groupby(\n",
    "    'type').count()['student_name']\n"
   ]
  },
  {
   "cell_type": "code",
   "execution_count": 77,
   "metadata": {},
   "outputs": [],
   "source": [
    "# Calculate the percentage of students passing math and reading\n",
    "percentage_passing_math_type = (\n",
    "    math_pass_size / grouped_type['Student ID'].count()) * 100\n",
    "percentage_passing_reading_type = (\n",
    "    read_pass_size / grouped_type['Student ID'].count()) * 100"
   ]
  },
  {
   "cell_type": "code",
   "execution_count": 78,
   "metadata": {
    "ExecuteTime": {
     "end_time": "2023-10-12T00:18:49.429553Z",
     "start_time": "2023-10-12T00:18:49.428401Z"
    }
   },
   "outputs": [],
   "source": [
    "# Calculate the overall passing rate\n",
    "overall_pass_rate_type = (\n",
    "    percentage_passing_math_type + percentage_passing_reading_type) / 2"
   ]
  },
  {
   "cell_type": "code",
   "execution_count": 79,
   "metadata": {},
   "outputs": [
    {
     "data": {
      "text/html": [
       "<div>\n",
       "<style scoped>\n",
       "    .dataframe tbody tr th:only-of-type {\n",
       "        vertical-align: middle;\n",
       "    }\n",
       "\n",
       "    .dataframe tbody tr th {\n",
       "        vertical-align: top;\n",
       "    }\n",
       "\n",
       "    .dataframe thead th {\n",
       "        text-align: right;\n",
       "    }\n",
       "</style>\n",
       "<table border=\"1\" class=\"dataframe\">\n",
       "  <thead>\n",
       "    <tr style=\"text-align: right;\">\n",
       "      <th></th>\n",
       "      <th>Average Math Score</th>\n",
       "      <th>Average Reading Score</th>\n",
       "      <th>% Passing Math</th>\n",
       "      <th>% Passing Reading</th>\n",
       "      <th>% Overall Passing</th>\n",
       "    </tr>\n",
       "    <tr>\n",
       "      <th>type</th>\n",
       "      <th></th>\n",
       "      <th></th>\n",
       "      <th></th>\n",
       "      <th></th>\n",
       "      <th></th>\n",
       "    </tr>\n",
       "  </thead>\n",
       "  <tbody>\n",
       "    <tr>\n",
       "      <th>Charter</th>\n",
       "      <td>83.406183</td>\n",
       "      <td>83.902821</td>\n",
       "      <td>93.701821</td>\n",
       "      <td>96.645891</td>\n",
       "      <td>95.173856</td>\n",
       "    </tr>\n",
       "    <tr>\n",
       "      <th>District</th>\n",
       "      <td>76.987026</td>\n",
       "      <td>80.962485</td>\n",
       "      <td>66.518387</td>\n",
       "      <td>80.905249</td>\n",
       "      <td>73.711818</td>\n",
       "    </tr>\n",
       "  </tbody>\n",
       "</table>\n",
       "</div>"
      ],
      "text/plain": [
       "          Average Math Score  Average Reading Score  % Passing Math  \\\n",
       "type                                                                  \n",
       "Charter            83.406183              83.902821       93.701821   \n",
       "District           76.987026              80.962485       66.518387   \n",
       "\n",
       "          % Passing Reading  % Overall Passing  \n",
       "type                                            \n",
       "Charter           96.645891          95.173856  \n",
       "District          80.905249          73.711818  "
      ]
     },
     "metadata": {},
     "output_type": "display_data"
    }
   ],
   "source": [
    "# Assemble into DataFrame\n",
    "type_summary = pd.DataFrame({\n",
    "    \"Average Math Score\": average_math_score_type,\n",
    "    \"Average Reading Score\": average_reading_score_type,\n",
    "    \"% Passing Math\": percentage_passing_math_type,\n",
    "    \"% Passing Reading\": percentage_passing_reading_type,\n",
    "    \"% Overall Passing\": overall_pass_rate_type\n",
    "})\n",
    "\n",
    "display(type_summary)"
   ]
  }
 ],
 "metadata": {
  "anaconda-cloud": {},
  "kernel_info": {
   "name": "python3"
  },
  "kernelspec": {
   "display_name": "Python 3 (ipykernel)",
   "language": "python",
   "name": "python3"
  },
  "language_info": {
   "codemirror_mode": {
    "name": "ipython",
    "version": 3
   },
   "file_extension": ".py",
   "mimetype": "text/x-python",
   "name": "python",
   "nbconvert_exporter": "python",
   "pygments_lexer": "ipython3",
   "version": "3.11.4"
  },
  "latex_envs": {
   "LaTeX_envs_menu_present": true,
   "autoclose": false,
   "autocomplete": true,
   "bibliofile": "biblio.bib",
   "cite_by": "apalike",
   "current_citInitial": 1,
   "eqLabelWithNumbers": true,
   "eqNumInitial": 1,
   "hotkeys": {
    "equation": "Ctrl-E",
    "itemize": "Ctrl-I"
   },
   "labels_anchors": false,
   "latex_user_defs": false,
   "report_style_numbering": false,
   "user_envs_cfg": false
  },
  "nteract": {
   "version": "0.8.4"
  },
  "toc": {
   "base_numbering": 1,
   "nav_menu": {},
   "number_sections": true,
   "sideBar": true,
   "skip_h1_title": false,
   "title_cell": "Table of Contents",
   "title_sidebar": "Contents",
   "toc_cell": false,
   "toc_position": {},
   "toc_section_display": true,
   "toc_window_display": false
  }
 },
 "nbformat": 4,
 "nbformat_minor": 1
}
